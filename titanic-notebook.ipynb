{
 "cells": [
  {
   "cell_type": "code",
   "execution_count": 1,
   "id": "618d874a",
   "metadata": {
    "_cell_guid": "b1076dfc-b9ad-4769-8c92-a6c4dae69d19",
    "_uuid": "8f2839f25d086af736a60e9eeb907d3b93b6e0e5",
    "execution": {
     "iopub.execute_input": "2025-06-16T21:42:52.241281Z",
     "iopub.status.busy": "2025-06-16T21:42:52.240477Z",
     "iopub.status.idle": "2025-06-16T21:42:53.994304Z",
     "shell.execute_reply": "2025-06-16T21:42:53.993288Z"
    },
    "papermill": {
     "duration": 1.759146,
     "end_time": "2025-06-16T21:42:53.995696",
     "exception": false,
     "start_time": "2025-06-16T21:42:52.236550",
     "status": "completed"
    },
    "tags": []
   },
   "outputs": [
    {
     "name": "stdout",
     "output_type": "stream",
     "text": [
      "/kaggle/input/titanic/train.csv\n",
      "/kaggle/input/titanic/test.csv\n",
      "/kaggle/input/titanic/gender_submission.csv\n"
     ]
    }
   ],
   "source": [
    "# This Python 3 environment comes with many helpful analytics libraries installed\n",
    "# It is defined by the kaggle/python Docker image: https://github.com/kaggle/docker-python\n",
    "# For example, here's several helpful packages to load\n",
    "\n",
    "import numpy as np # linear algebra\n",
    "import pandas as pd # data processing, CSV file I/O (e.g. pd.read_csv)\n",
    "\n",
    "# Input data files are available in the read-only \"../input/\" directory\n",
    "# For example, running this (by clicking run or pressing Shift+Enter) will list all files under the input directory\n",
    "\n",
    "import os\n",
    "for dirname, _, filenames in os.walk('/kaggle/input'):\n",
    "    for filename in filenames:\n",
    "        print(os.path.join(dirname, filename))\n",
    "\n",
    "# You can write up to 20GB to the current directory (/kaggle/working/) that gets preserved as output when you create a version using \"Save & Run All\" \n",
    "# You can also write temporary files to /kaggle/temp/, but they won't be saved outside of the current session"
   ]
  },
  {
   "cell_type": "code",
   "execution_count": 2,
   "id": "bc05496b",
   "metadata": {
    "execution": {
     "iopub.execute_input": "2025-06-16T21:42:54.001078Z",
     "iopub.status.busy": "2025-06-16T21:42:54.000609Z",
     "iopub.status.idle": "2025-06-16T21:42:54.037049Z",
     "shell.execute_reply": "2025-06-16T21:42:54.036012Z"
    },
    "papermill": {
     "duration": 0.040685,
     "end_time": "2025-06-16T21:42:54.038782",
     "exception": false,
     "start_time": "2025-06-16T21:42:53.998097",
     "status": "completed"
    },
    "tags": []
   },
   "outputs": [],
   "source": [
    "train_df = pd.read_csv('/kaggle/input/titanic/train.csv')\n",
    "test_df = pd.read_csv('/kaggle/input/titanic/test.csv')"
   ]
  },
  {
   "cell_type": "code",
   "execution_count": 3,
   "id": "b564fe61",
   "metadata": {
    "execution": {
     "iopub.execute_input": "2025-06-16T21:42:54.043783Z",
     "iopub.status.busy": "2025-06-16T21:42:54.043493Z",
     "iopub.status.idle": "2025-06-16T21:42:54.065833Z",
     "shell.execute_reply": "2025-06-16T21:42:54.064713Z"
    },
    "papermill": {
     "duration": 0.026381,
     "end_time": "2025-06-16T21:42:54.067246",
     "exception": false,
     "start_time": "2025-06-16T21:42:54.040865",
     "status": "completed"
    },
    "tags": []
   },
   "outputs": [
    {
     "name": "stdout",
     "output_type": "stream",
     "text": [
      "['male' 'female']\n",
      "[0 2 1]\n"
     ]
    }
   ],
   "source": [
    "#filling missing values with median\n",
    "train_df['Age'] = train_df['Age'].fillna(train_df['Age'].median())\n",
    "\n",
    "#filling all missing values of embarked with S\n",
    "train_df['Embarked']= train_df['Embarked'].fillna('S')\n",
    "\n",
    "#map\n",
    "#train_df['Sex'] = train_df['Sex'].map({'male':0, 'female':1})\n",
    "train_df['Embarked'] = train_df['Embarked'].map({'S':0, 'Q':1,'C':2 })\n",
    "\n",
    "#filling missing values of fare with median values \n",
    "train_df['Fare'] = train_df['Fare'].fillna(train_df['Fare'].median())\n",
    "\n",
    "\n",
    "print(train_df['Sex'].unique())\n",
    "print(train_df['Embarked'].unique())"
   ]
  },
  {
   "cell_type": "code",
   "execution_count": 4,
   "id": "e383d2f7",
   "metadata": {
    "execution": {
     "iopub.execute_input": "2025-06-16T21:42:54.072082Z",
     "iopub.status.busy": "2025-06-16T21:42:54.071785Z",
     "iopub.status.idle": "2025-06-16T21:42:54.079615Z",
     "shell.execute_reply": "2025-06-16T21:42:54.078872Z"
    },
    "papermill": {
     "duration": 0.011653,
     "end_time": "2025-06-16T21:42:54.080874",
     "exception": false,
     "start_time": "2025-06-16T21:42:54.069221",
     "status": "completed"
    },
    "tags": []
   },
   "outputs": [],
   "source": [
    "features = ['Pclass','Age', 'SibSp','Parch','Fare','Embarked']\n",
    "x = train_df[features]\n",
    "y = train_df['Survived']"
   ]
  },
  {
   "cell_type": "code",
   "execution_count": 5,
   "id": "8f171ecb",
   "metadata": {
    "execution": {
     "iopub.execute_input": "2025-06-16T21:42:54.085465Z",
     "iopub.status.busy": "2025-06-16T21:42:54.085201Z",
     "iopub.status.idle": "2025-06-16T21:42:55.968623Z",
     "shell.execute_reply": "2025-06-16T21:42:55.967968Z"
    },
    "papermill": {
     "duration": 1.888481,
     "end_time": "2025-06-16T21:42:55.971207",
     "exception": false,
     "start_time": "2025-06-16T21:42:54.082726",
     "status": "completed"
    },
    "tags": []
   },
   "outputs": [
    {
     "name": "stdout",
     "output_type": "stream",
     "text": [
      "Validation accuracy: 0.7318\n"
     ]
    }
   ],
   "source": [
    "from sklearn.linear_model import LogisticRegression\n",
    "from sklearn.model_selection import train_test_split\n",
    "from sklearn.metrics import accuracy_score\n",
    "\n",
    "x_train,x_val,y_train,y_val = train_test_split(x, y, test_size=0.2, random_state=42)\n",
    "\n",
    "model = LogisticRegression(max_iter=1000)\n",
    "model.fit(x_train, y_train)\n",
    "\n",
    "y_pred = model.predict(x_val)\n",
    "\n",
    "print(f\"Validation accuracy: {accuracy_score(y_val, y_pred):.4f}\")"
   ]
  }
 ],
 "metadata": {
  "kaggle": {
   "accelerator": "none",
   "dataSources": [
    {
     "databundleVersionId": 26502,
     "sourceId": 3136,
     "sourceType": "competition"
    }
   ],
   "dockerImageVersionId": 31040,
   "isGpuEnabled": false,
   "isInternetEnabled": false,
   "language": "python",
   "sourceType": "notebook"
  },
  "kernelspec": {
   "display_name": "Python 3",
   "language": "python",
   "name": "python3"
  },
  "language_info": {
   "codemirror_mode": {
    "name": "ipython",
    "version": 3
   },
   "file_extension": ".py",
   "mimetype": "text/x-python",
   "name": "python",
   "nbconvert_exporter": "python",
   "pygments_lexer": "ipython3",
   "version": "3.11.11"
  },
  "papermill": {
   "default_parameters": {},
   "duration": 9.091655,
   "end_time": "2025-06-16T21:42:56.596365",
   "environment_variables": {},
   "exception": null,
   "input_path": "__notebook__.ipynb",
   "output_path": "__notebook__.ipynb",
   "parameters": {},
   "start_time": "2025-06-16T21:42:47.504710",
   "version": "2.6.0"
  }
 },
 "nbformat": 4,
 "nbformat_minor": 5
}
